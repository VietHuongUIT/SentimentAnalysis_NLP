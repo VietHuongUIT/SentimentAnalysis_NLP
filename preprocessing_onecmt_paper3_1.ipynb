{
  "nbformat": 4,
  "nbformat_minor": 0,
  "metadata": {
    "colab": {
      "name": "preprocessing_onecmt_paper3_1.ipynb",
      "provenance": [],
      "collapsed_sections": [],
      "authorship_tag": "ABX9TyPEfOWGib9JJbEvfVO25ut9",
      "include_colab_link": true
    },
    "kernelspec": {
      "name": "python3",
      "display_name": "Python 3"
    },
    "language_info": {
      "name": "python"
    }
  },
  "cells": [
    {
      "cell_type": "markdown",
      "metadata": {
        "id": "view-in-github",
        "colab_type": "text"
      },
      "source": [
        "<a href=\"https://colab.research.google.com/github/VietHuongUIT/SentimentAnalysis_NLP/blob/main/preprocessing_onecmt_paper3_1.ipynb\" target=\"_parent\"><img src=\"https://colab.research.google.com/assets/colab-badge.svg\" alt=\"Open In Colab\"/></a>"
      ]
    },
    {
      "cell_type": "code",
      "execution_count": 13,
      "metadata": {
        "colab": {
          "base_uri": "https://localhost:8080/"
        },
        "id": "WUoiq903hVo7",
        "outputId": "5daa7b70-96cf-4123-ad2a-78ff58aad0f6"
      },
      "outputs": [
        {
          "output_type": "stream",
          "name": "stdout",
          "text": [
            "Looking in indexes: https://pypi.org/simple, https://us-python.pkg.dev/colab-wheels/public/simple/\n",
            "Requirement already satisfied: vaderSentiment in /usr/local/lib/python3.7/dist-packages (3.3.2)\n",
            "Requirement already satisfied: requests in /usr/local/lib/python3.7/dist-packages (from vaderSentiment) (2.23.0)\n",
            "Requirement already satisfied: certifi>=2017.4.17 in /usr/local/lib/python3.7/dist-packages (from requests->vaderSentiment) (2022.6.15)\n",
            "Requirement already satisfied: idna<3,>=2.5 in /usr/local/lib/python3.7/dist-packages (from requests->vaderSentiment) (2.10)\n",
            "Requirement already satisfied: chardet<4,>=3.0.2 in /usr/local/lib/python3.7/dist-packages (from requests->vaderSentiment) (3.0.4)\n",
            "Requirement already satisfied: urllib3!=1.25.0,!=1.25.1,<1.26,>=1.21.1 in /usr/local/lib/python3.7/dist-packages (from requests->vaderSentiment) (1.24.3)\n"
          ]
        }
      ],
      "source": [
        "!pip install vaderSentiment"
      ]
    },
    {
      "cell_type": "code",
      "source": [
        "# Import library: \n",
        "\n",
        "import pandas as pd\n",
        "import numpy as np\n",
        "from textblob import TextBlob\n",
        "import re\n",
        "from vaderSentiment.vaderSentiment import SentimentIntensityAnalyzer\n",
        "from sklearn.model_selection import train_test_split\n",
        "from sklearn.metrics import accuracy_score, classification_report\n",
        "from sklearn.discriminant_analysis import LinearDiscriminantAnalysis"
      ],
      "metadata": {
        "id": "IaZoS5nyh6MN"
      },
      "execution_count": 14,
      "outputs": []
    },
    {
      "cell_type": "code",
      "source": [
        "exampleString = \"RT@bitcoin .......... https://twitter.com/FT/status/10226050 Bitcoin ETF rejected but buuuuuy!!! Ask yourself why you aren’t buying lol, tomorrow it will reach 8000 #BUY #NOW #BITCOIN\""
      ],
      "metadata": {
        "id": "9Co6iZ5pkT4T"
      },
      "execution_count": 15,
      "outputs": []
    },
    {
      "cell_type": "code",
      "source": [
        "#Convert the tweet to the lower case\n",
        "lowercaseString = exampleString.lower()\n",
        "print(lowercaseString)"
      ],
      "metadata": {
        "colab": {
          "base_uri": "https://localhost:8080/"
        },
        "id": "V3iKZ7-sh7im",
        "outputId": "21d9d848-2076-49c3-928c-42af25b064e6"
      },
      "execution_count": 16,
      "outputs": [
        {
          "output_type": "stream",
          "name": "stdout",
          "text": [
            "rt@bitcoin .......... https://twitter.com/ft/status/10226050 bitcoin etf rejected but buuuuuy!!! ask yourself why you aren’t buying lol, tomorrow it will reach 8000 #buy #now #bitcoin\n"
          ]
        }
      ]
    },
    {
      "cell_type": "code",
      "source": [
        "#Remove \"RT\" if present\n",
        "lowercaseString = lowercaseString.replace(\"rt\", \"\").replace(\"_\", \" \")\n",
        "print(lowercaseString)"
      ],
      "metadata": {
        "colab": {
          "base_uri": "https://localhost:8080/"
        },
        "id": "lATVFRsUvNXc",
        "outputId": "799c25ff-1a1e-476f-cbf3-f42a5bf7c425"
      },
      "execution_count": 17,
      "outputs": [
        {
          "output_type": "stream",
          "name": "stdout",
          "text": [
            "@bitcoin .......... https://twitter.com/ft/status/10226050 bitcoin etf rejected but buuuuuy!!! ask yourself why you aren’t buying lol, tomorrow it will reach 8000 #buy #now #bitcoin\n"
          ]
        }
      ]
    },
    {
      "cell_type": "code",
      "source": [
        "#Reducing user mentioned places\n",
        "lowercaseString  = re.sub(r\"http\\S+\", \"\", lowercaseString)##xoá urls\n",
        "lowercaseString = re.sub('@[^\\s]+','',lowercaseString)\n",
        "lowercaseString = re.sub(r':.*$', \":\",lowercaseString,)\n",
        "print(lowercaseString)"
      ],
      "metadata": {
        "colab": {
          "base_uri": "https://localhost:8080/"
        },
        "id": "IxzWwMAgkSZ2",
        "outputId": "d6025e95-5d85-42fa-d6d2-60779e1411b0"
      },
      "execution_count": 18,
      "outputs": [
        {
          "output_type": "stream",
          "name": "stdout",
          "text": [
            " ..........  bitcoin etf rejected but buuuuuy!!! ask yourself why you aren’t buying lol, tomorrow it will reach 8000 #buy #now #bitcoin\n"
          ]
        }
      ]
    },
    {
      "cell_type": "code",
      "source": [
        "#Replace 2 or more dots (.) with space\n",
        "## Pattern to match from one or more dots \n",
        "dot_pattern = re.compile(r'\\.{1,}')\n",
        "\n",
        "## call the sub method\n",
        "lowercaseString = dot_pattern.sub(' ', lowercaseString) \n",
        "print(lowercaseString)"
      ],
      "metadata": {
        "colab": {
          "base_uri": "https://localhost:8080/"
        },
        "id": "oGwNd2P-p2J8",
        "outputId": "4dd320e8-c189-4a08-c436-4a8f043d287c"
      },
      "execution_count": 19,
      "outputs": [
        {
          "output_type": "stream",
          "name": "stdout",
          "text": [
            "    bitcoin etf rejected but buuuuuy!!! ask yourself why you aren’t buying lol, tomorrow it will reach 8000 #buy #now #bitcoin\n"
          ]
        }
      ]
    },
    {
      "cell_type": "code",
      "source": [
        "#Replace 2 or more spaces with a single space\n",
        "lowercaseString=\" \".join(lowercaseString.split())\n",
        "print(lowercaseString)"
      ],
      "metadata": {
        "colab": {
          "base_uri": "https://localhost:8080/"
        },
        "id": "c3jzU6QasAVk",
        "outputId": "b82f4ff1-65cf-4304-fb53-6d7dd18971cb"
      },
      "execution_count": 20,
      "outputs": [
        {
          "output_type": "stream",
          "name": "stdout",
          "text": [
            "bitcoin etf rejected but buuuuuy!!! ask yourself why you aren’t buying lol, tomorrow it will reach 8000 #buy #now #bitcoin\n"
          ]
        }
      ]
    },
    {
      "cell_type": "code",
      "source": [
        "#Turning hashtags to the typical words\n",
        "lowercaseString=lowercaseString.replace(\"#\", \"\").replace(\"_\", \" \")\n",
        "print(lowercaseString)"
      ],
      "metadata": {
        "colab": {
          "base_uri": "https://localhost:8080/"
        },
        "id": "_JO59sQBsj9n",
        "outputId": "0429e6b4-07c6-4661-d6d9-b30f89688fcc"
      },
      "execution_count": 21,
      "outputs": [
        {
          "output_type": "stream",
          "name": "stdout",
          "text": [
            "bitcoin etf rejected but buuuuuy!!! ask yourself why you aren’t buying lol, tomorrow it will reach 8000 buy now bitcoin\n"
          ]
        }
      ]
    },
    {
      "cell_type": "code",
      "source": [
        "def unique_list(l):\n",
        "    ulist = []\n",
        "    [ulist.append(x) for x in l if x not in ulist]\n",
        "    return ulist"
      ],
      "metadata": {
        "id": "7yNadobgt_pa"
      },
      "execution_count": 22,
      "outputs": []
    },
    {
      "cell_type": "code",
      "source": [
        "#Remove duplicate words in a string with Python\n",
        "lowercaseString =' '.join(unique_list(lowercaseString.split()))\n",
        "print(lowercaseString)"
      ],
      "metadata": {
        "colab": {
          "base_uri": "https://localhost:8080/"
        },
        "id": "_JJ69OaKuR8p",
        "outputId": "0e7f2c4a-055f-46e8-b638-76c4a2468480"
      },
      "execution_count": 23,
      "outputs": [
        {
          "output_type": "stream",
          "name": "stdout",
          "text": [
            "bitcoin etf rejected but buuuuuy!!! ask yourself why you aren’t buying lol, tomorrow it will reach 8000 buy now\n"
          ]
        }
      ]
    },
    {
      "cell_type": "code",
      "source": [
        "#Reduce character sequences >3 to 3\n",
        "import re\n",
        "expr = r'(.)\\1{3,}'\n",
        "replace_by = r'\\1\\1\\1'\n",
        "lowercaseString = re.sub(expr, replace_by, lowercaseString)\n",
        "print(lowercaseString)"
      ],
      "metadata": {
        "colab": {
          "base_uri": "https://localhost:8080/"
        },
        "id": "YLxmI99Tua2z",
        "outputId": "4a1847df-91cd-48f8-b3ee-fecf45314154"
      },
      "execution_count": 24,
      "outputs": [
        {
          "output_type": "stream",
          "name": "stdout",
          "text": [
            "bitcoin etf rejected but buuuy!!! ask yourself why you aren’t buying lol, tomorrow it will reach 8000 buy now\n"
          ]
        }
      ]
    }
  ]
}